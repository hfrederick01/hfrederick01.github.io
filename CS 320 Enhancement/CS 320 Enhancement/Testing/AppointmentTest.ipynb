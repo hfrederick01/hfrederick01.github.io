{
 "cells": [
  {
   "cell_type": "code",
   "execution_count": 1,
   "id": "528bb0ce-db57-481e-be2b-119a2050756e",
   "metadata": {},
   "outputs": [],
   "source": [
    "#Programmer: Hannah Frederick\n",
    "#Date:09/20/2025\n",
    "#Program Description: Utilize in-memory data structures to store, edit, and delete contact, task, and appointment information for a mobile application. \n",
    "#Utilize Pytest unit testing to verify that all requirements are working as intended\n",
    "\n",
    "import pytest\n",
    "import sys\n",
    "import os\n",
    "from datetime import date, timedelta\n",
    "import import_ipynb\n",
    "import ipytest\n",
    "ipytest.autoconfig()\n",
    "\n",
    "\n",
    "appointment_service_path = os.path.abspath(\"../AppointmentService\")\n",
    "if appointment_service_path not in sys.path:\n",
    "    sys.path.append(appointment_service_path)\n",
    "\n",
    "from Appointment import Appointment\n",
    "from AppointmentService import AppointmentService\n",
    "\n",
    "\n",
    "#No OOP because pytest does better without it\n",
    "\n",
    "#tests that appointment constructor works as intended\n",
    "def test_appointment_class():\n",
    "    appointment_date = date.today()\n",
    "    \n",
    "    new_appointment = Appointment(\"0123456789\", appointment_date, \"Description of less than 50 characters\")\n",
    "    assert new_appointment.get_appointment_id() == \"0123456789\"\n",
    "    assert new_appointment.get_appointment_date() == appointment_date\n",
    "    assert new_appointment.get_appointment_description() == \"Description of less than 50 characters\"\n",
    "\n",
    "#tests that appointment_id_too_long method works as intended\n",
    "def test_appointment_id_too_long():\n",
    "    appointment_date = date.today()\n",
    "    \n",
    "    with pytest.raises(Exception) as excinfo:\n",
    "        Appointment(\"01234567890\", appointment_date, \"Description of less than 50 characters\")\n",
    "\n",
    "    assert \"Appointment ID too long.\" in str(excinfo.value)\n",
    "\n",
    "#tests that appointment_id_null method works as intended\n",
    "def test_appointment_id_null():\n",
    "    appointment_date = date.today()\n",
    "    \n",
    "    with pytest.raises(Exception) as excinfo:\n",
    "        Appointment(None, appointment_date, \"Description of less than 50 characters\")\n",
    "\n",
    "    assert \"Appointment ID null.\" in str(excinfo.value)\n",
    "\n",
    "#tests that appointment_in_past method works as intended\n",
    "def test_appointment_in_past():\n",
    "    appointment_date = date.today() - timedelta(days=1)\n",
    "    \n",
    "    with pytest.raises(Exception) as excinfo:\n",
    "        Appointment(\"0123456789\", appointment_date, \"Description of less than 50 characters\")\n",
    "\n",
    "    assert \"Appointment date in the past.\" in str(excinfo.value)\n",
    "\n",
    "#tests that appointment_date_null method works as intended\n",
    "def test_appointment_date_null():\n",
    "    appointment_date = date.today()\n",
    "    \n",
    "    with pytest.raises(Exception) as excinfo:\n",
    "        Appointment(\"0123456789\", None, \"Description of less than 50 characters\")\n",
    "\n",
    "    assert \"Appointment date null.\" in str(excinfo.value)\n",
    "\n",
    "#tests that appointment_description_too_long method works as intended\n",
    "def test_appointment_description_too_long():\n",
    "    appointment_date = date.today()\n",
    "    \n",
    "    with pytest.raises(Exception) as excinfo:\n",
    "        Appointment(\"0123456789\", appointment_date, \"Description of more than 50 characters is what this is an example of\")\n",
    "\n",
    "    assert \"Appointment description too long.\" in str(excinfo.value)\n",
    "\n",
    "#tests that appointment_description_null method works as intended\n",
    "def test_appointment_description_null():\n",
    "    appointment_date = date.today()\n",
    "    \n",
    "    with pytest.raises(Exception) as excinfo:\n",
    "        Appointment(\"0123456789\", appointment_date, None)\n",
    "\n",
    "    assert \"Appointment description null.\" in str(excinfo.value)"
   ]
  },
  {
   "cell_type": "code",
   "execution_count": 2,
   "id": "f7d46896-bb1e-4571-90b5-bc5325b4847a",
   "metadata": {
    "scrolled": true
   },
   "outputs": [
    {
     "name": "stdout",
     "output_type": "stream",
     "text": [
      "\u001b[1m======================================= test session starts =======================================\u001b[0m\n",
      "platform win32 -- Python 3.11.9, pytest-8.4.2, pluggy-1.6.0 -- C:\\Users\\Hfred\\AppData\\Local\\Programs\\Python\\Python311\\python.exe\n",
      "cachedir: .pytest_cache\n",
      "rootdir: C:\\Users\\Hfred\\CS 320 Enhancement\\Testing\n",
      "plugins: anyio-4.10.0, dash-3.2.0, pytest_notebook-0.10.0\n",
      "\u001b[1mcollecting ... \u001b[0mcollected 7 items\n",
      "\n",
      "t_747228e33f444c66906c6093217aa45b.py::test_appointment_class \u001b[32mPASSED\u001b[0m\u001b[32m                         [ 14%]\u001b[0m\n",
      "t_747228e33f444c66906c6093217aa45b.py::test_appointment_id_too_long \u001b[32mPASSED\u001b[0m\u001b[32m                   [ 28%]\u001b[0m\n",
      "t_747228e33f444c66906c6093217aa45b.py::test_appointment_id_null \u001b[32mPASSED\u001b[0m\u001b[32m                       [ 42%]\u001b[0m\n",
      "t_747228e33f444c66906c6093217aa45b.py::test_appointment_in_past \u001b[32mPASSED\u001b[0m\u001b[32m                       [ 57%]\u001b[0m\n",
      "t_747228e33f444c66906c6093217aa45b.py::test_appointment_date_null \u001b[32mPASSED\u001b[0m\u001b[32m                     [ 71%]\u001b[0m\n",
      "t_747228e33f444c66906c6093217aa45b.py::test_appointment_description_too_long \u001b[32mPASSED\u001b[0m\u001b[32m          [ 85%]\u001b[0m\n",
      "t_747228e33f444c66906c6093217aa45b.py::test_appointment_description_null \u001b[32mPASSED\u001b[0m\u001b[32m              [100%]\u001b[0m\n",
      "\n",
      "\u001b[32m======================================== \u001b[32m\u001b[1m7 passed\u001b[0m\u001b[32m in 0.05s\u001b[0m\u001b[32m ========================================\u001b[0m\n"
     ]
    },
    {
     "data": {
      "text/plain": [
       "<ExitCode.OK: 0>"
      ]
     },
     "execution_count": 2,
     "metadata": {},
     "output_type": "execute_result"
    }
   ],
   "source": [
    "ipytest.run('-vv')"
   ]
  }
 ],
 "metadata": {
  "kernelspec": {
   "display_name": "Python 3 (ipykernel)",
   "language": "python",
   "name": "python3"
  },
  "language_info": {
   "codemirror_mode": {
    "name": "ipython",
    "version": 3
   },
   "file_extension": ".py",
   "mimetype": "text/x-python",
   "name": "python",
   "nbconvert_exporter": "python",
   "pygments_lexer": "ipython3",
   "version": "3.11.9"
  }
 },
 "nbformat": 4,
 "nbformat_minor": 5
}
