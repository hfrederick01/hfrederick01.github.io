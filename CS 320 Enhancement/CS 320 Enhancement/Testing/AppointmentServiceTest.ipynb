{
 "cells": [
  {
   "cell_type": "code",
   "execution_count": 1,
   "id": "6c7db29b-dad9-4642-bb21-642f4b7d5f5e",
   "metadata": {},
   "outputs": [],
   "source": [
    "#Programmer: Hannah Frederick\n",
    "#Date:09/20/2025\n",
    "#Program Description: Utilize in-memory data structures to store, edit, and delete contact, task, and appointment information for a mobile application. \n",
    "#Utilize Pytest unit testing to verify that all requirements are working as intended\n",
    "\n",
    "import pytest\n",
    "import sys\n",
    "import os\n",
    "import ipytest\n",
    "from datetime import date\n",
    "\n",
    "appointment_service_path = os.path.abspath(\"../AppointmentService\")\n",
    "if appointment_service_path not in sys.path:\n",
    "    sys.path.append(appointment_service_path)\n",
    "\n",
    "from Appointment import Appointment\n",
    "from AppointmentService import AppointmentService\n",
    "\n",
    "#No OOP because pytest does better without it\n",
    "\n",
    "#tests that add_appointment method works as intended\n",
    "def test_add_appointment():\n",
    "    appointment_date = date.today()\n",
    "    \n",
    "    appointment_service = AppointmentService()\n",
    "    appointment_service.add_appointment(appointment_date, \"Description under 50 characters\")\n",
    "\n",
    "    assert len(appointment_service.appointment_list) > 0\n",
    "    new_appointment = appointment_service.appointment_list[0]\n",
    "    \n",
    "    assert new_appointment.get_appointment_id() == \"0\"\n",
    "    assert new_appointment.get_appointment_date() == appointment_date\n",
    "    assert new_appointment.get_appointment_description() == \"Description under 50 characters\"\n",
    "\n",
    "#tests that delete_appointment method works as intended\n",
    "def test_delete_appointment():\n",
    "    appointment_date = date.today()\n",
    "    \n",
    "    appointment_service = AppointmentService()\n",
    "    appointment_service.add_appointment(appointment_date, \"Description under 50 characters\")\n",
    "\n",
    "    assert len(appointment_service.appointment_list) == 1\n",
    "\n",
    "    result = appointment_service.delete_appointment(\"0\")\n",
    "    assert result is True\n",
    "\n",
    "    assert len(appointment_service.appointment_list) == 0\n"
   ]
  },
  {
   "cell_type": "code",
   "execution_count": 2,
   "id": "cf6337a2-5eb2-4bba-83e2-9cfe4ad3dd1d",
   "metadata": {},
   "outputs": [
    {
     "name": "stdout",
     "output_type": "stream",
     "text": [
      "\u001b[1m======================================= test session starts =======================================\u001b[0m\n",
      "platform win32 -- Python 3.11.9, pytest-8.4.2, pluggy-1.6.0 -- C:\\Users\\Hfred\\AppData\\Local\\Programs\\Python\\Python311\\python.exe\n",
      "cachedir: .pytest_cache\n",
      "rootdir: C:\\Users\\Hfred\\CS 320 Enhancement\\Testing\n",
      "plugins: anyio-4.10.0, dash-3.2.0, pytest_notebook-0.10.0\n",
      "\u001b[1mcollecting ... \u001b[0mcollected 2 items\n",
      "\n",
      "t_0c6d8723020c45aa9dee77b946542d27.py::test_add_appointment \u001b[32mPASSED\u001b[0m\u001b[32m                           [ 50%]\u001b[0m\n",
      "t_0c6d8723020c45aa9dee77b946542d27.py::test_delete_appointment \u001b[32mPASSED\u001b[0m\u001b[32m                        [100%]\u001b[0m\n",
      "\n",
      "\u001b[32m======================================== \u001b[32m\u001b[1m2 passed\u001b[0m\u001b[32m in 0.05s\u001b[0m\u001b[32m ========================================\u001b[0m\n"
     ]
    },
    {
     "data": {
      "text/plain": [
       "<ExitCode.OK: 0>"
      ]
     },
     "execution_count": 2,
     "metadata": {},
     "output_type": "execute_result"
    }
   ],
   "source": [
    "ipytest.run('-vv')"
   ]
  }
 ],
 "metadata": {
  "kernelspec": {
   "display_name": "Python 3 (ipykernel)",
   "language": "python",
   "name": "python3"
  },
  "language_info": {
   "codemirror_mode": {
    "name": "ipython",
    "version": 3
   },
   "file_extension": ".py",
   "mimetype": "text/x-python",
   "name": "python",
   "nbconvert_exporter": "python",
   "pygments_lexer": "ipython3",
   "version": "3.11.9"
  }
 },
 "nbformat": 4,
 "nbformat_minor": 5
}
