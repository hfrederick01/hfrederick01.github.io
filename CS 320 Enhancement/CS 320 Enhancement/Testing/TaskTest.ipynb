{
 "cells": [
  {
   "cell_type": "code",
   "execution_count": 1,
   "id": "552546a8-2b59-4760-a948-54adf1602030",
   "metadata": {},
   "outputs": [],
   "source": [
    "#Programmer: Hannah Frederick\n",
    "#Date:09/20/2025\n",
    "#Program Description: Utilize in-memory data structures to store, edit, and delete contact, task, and appointment information for a mobile application. \n",
    "#Utilize Pytest unit testing to verify that all requirements are working as intended\n",
    "\n",
    "import pytest\n",
    "import sys\n",
    "import os\n",
    "import import_ipynb\n",
    "import ipytest\n",
    "ipytest.autoconfig()\n",
    "\n",
    "\n",
    "taskServicePath = os.path.abspath(\"../TaskService\")\n",
    "if taskServicePath not in sys.path:\n",
    "    sys.path.append(taskServicePath)\n",
    "\n",
    "from Task import Task\n",
    "from TaskService import TaskService\n",
    "\n",
    "\n",
    "#No OOP because pytest does better without it\n",
    "\n",
    "#tests that task constructor works as intended\n",
    "def test_task_class():\n",
    "    new_task = Task(\"0123456789\", \"About 20 characters\", \"Description of less than 50 characters\")\n",
    "    assert new_task.get_task_id() == \"0123456789\"\n",
    "    assert new_task.get_task_name() == \"About 20 characters\"\n",
    "    assert new_task.get_task_description() == \"Description of less than 50 characters\"\n",
    "\n",
    "#tests that task_id_too_long method works as intended\n",
    "def test_task_id_too_long():\n",
    "    with pytest.raises(Exception) as excinfo:\n",
    "        Task(\"01234567890\", \"About 20 characters\", \"Description of less than 50 characters\")\n",
    "\n",
    "    assert \"Task ID too long.\" in str(excinfo.value)\n",
    "\n",
    "#tests that task_id_null method works as intended\n",
    "def test_task_id_null():\n",
    "    with pytest.raises(Exception) as excinfo:\n",
    "        Task(None, \"About 20 characters\", \"Description of less than 50 characters\")\n",
    "\n",
    "    assert \"Task ID null.\" in str(excinfo.value)\n",
    "\n",
    "#tests that task_name_too_long method works as intended\n",
    "def test_task_name_too_long():\n",
    "    with pytest.raises(Exception) as excinfo:\n",
    "        Task(\"0123456789\", \"More than 20 characters\", \"Description of less than 50 characters\")\n",
    "\n",
    "    assert \"Task name too long.\" in str(excinfo.value)\n",
    "\n",
    "#tests that task_name_null method works as intended\n",
    "def test_task_name_null():\n",
    "    with pytest.raises(Exception) as excinfo:\n",
    "        Task(\"0123456789\", None, \"Description of less than 50 characters\")\n",
    "\n",
    "    assert \"Task name null.\" in str(excinfo.value)\n",
    "\n",
    "#tests that task_description_too_long method works as intended\n",
    "def test_task_description_too_long():\n",
    "    with pytest.raises(Exception) as excinfo:\n",
    "        Task(\"0123456789\", \"About 20 characters\", \"Description of more than 50 characters is in this place\")\n",
    "\n",
    "    assert \"Task description too long.\" in str(excinfo.value)\n",
    "\n",
    "#tests that task_description_null method works as intended\n",
    "def test_task_description_null():\n",
    "    with pytest.raises(Exception) as excinfo:\n",
    "        Task(\"0123456789\", \"About 20 characters\", None)\n",
    "\n",
    "    assert \"Task description null.\" in str(excinfo.value)"
   ]
  },
  {
   "cell_type": "code",
   "execution_count": 2,
   "id": "0326125c-fda1-4b7c-9d45-f6538d213580",
   "metadata": {},
   "outputs": [
    {
     "name": "stdout",
     "output_type": "stream",
     "text": [
      "\u001b[1m======================================= test session starts =======================================\u001b[0m\n",
      "platform win32 -- Python 3.11.9, pytest-8.4.2, pluggy-1.6.0 -- C:\\Users\\Hfred\\AppData\\Local\\Programs\\Python\\Python311\\python.exe\n",
      "cachedir: .pytest_cache\n",
      "rootdir: C:\\Users\\Hfred\\CS 320 Enhancement\\Testing\n",
      "plugins: anyio-4.10.0, dash-3.2.0, pytest_notebook-0.10.0\n",
      "\u001b[1mcollecting ... \u001b[0mcollected 7 items\n",
      "\n",
      "t_906a7775eb6e4e3e8a53fb93ce050d2f.py::test_task_class \u001b[32mPASSED\u001b[0m\u001b[32m                                [ 14%]\u001b[0m\n",
      "t_906a7775eb6e4e3e8a53fb93ce050d2f.py::test_task_id_too_long \u001b[32mPASSED\u001b[0m\u001b[32m                          [ 28%]\u001b[0m\n",
      "t_906a7775eb6e4e3e8a53fb93ce050d2f.py::test_task_id_null \u001b[32mPASSED\u001b[0m\u001b[32m                              [ 42%]\u001b[0m\n",
      "t_906a7775eb6e4e3e8a53fb93ce050d2f.py::test_task_name_too_long \u001b[32mPASSED\u001b[0m\u001b[32m                        [ 57%]\u001b[0m\n",
      "t_906a7775eb6e4e3e8a53fb93ce050d2f.py::test_task_name_null \u001b[32mPASSED\u001b[0m\u001b[32m                            [ 71%]\u001b[0m\n",
      "t_906a7775eb6e4e3e8a53fb93ce050d2f.py::test_task_description_too_long \u001b[32mPASSED\u001b[0m\u001b[32m                 [ 85%]\u001b[0m\n",
      "t_906a7775eb6e4e3e8a53fb93ce050d2f.py::test_task_description_null \u001b[32mPASSED\u001b[0m\u001b[32m                     [100%]\u001b[0m\n",
      "\n",
      "\u001b[32m======================================== \u001b[32m\u001b[1m7 passed\u001b[0m\u001b[32m in 0.04s\u001b[0m\u001b[32m ========================================\u001b[0m\n"
     ]
    },
    {
     "data": {
      "text/plain": [
       "<ExitCode.OK: 0>"
      ]
     },
     "execution_count": 2,
     "metadata": {},
     "output_type": "execute_result"
    }
   ],
   "source": [
    "ipytest.run('-vv')"
   ]
  }
 ],
 "metadata": {
  "kernelspec": {
   "display_name": "Python 3 (ipykernel)",
   "language": "python",
   "name": "python3"
  },
  "language_info": {
   "codemirror_mode": {
    "name": "ipython",
    "version": 3
   },
   "file_extension": ".py",
   "mimetype": "text/x-python",
   "name": "python",
   "nbconvert_exporter": "python",
   "pygments_lexer": "ipython3",
   "version": "3.11.9"
  }
 },
 "nbformat": 4,
 "nbformat_minor": 5
}
