{
 "cells": [
  {
   "cell_type": "code",
   "execution_count": 1,
   "id": "a1fe214a-d88f-494a-814c-9feedfc3d738",
   "metadata": {},
   "outputs": [],
   "source": [
    "#Programmer: Hannah Frederick\n",
    "#Date:09/20/2025\n",
    "#Program Description: Utilize in-memory data structures to store, edit, and delete contact, task, and appointment information for a mobile application. \n",
    "#Utilize Pytest unit testing to verify that all requirements are working as intended\n",
    "\n",
    "import pytest\n",
    "import sys\n",
    "import os\n",
    "import ipytest\n",
    "\n",
    "contact_service_path = os.path.abspath(\"../ContactService\")\n",
    "if contact_service_path not in sys.path:\n",
    "    sys.path.append(contact_service_path)\n",
    "\n",
    "from Contact import Contact\n",
    "from ContactService import ContactService\n",
    "\n",
    "#No OOP because pytest does better without it\n",
    "\n",
    "#tests that an add_contact method works as intended\n",
    "def test_add_contact():\n",
    "    contact_service = ContactService()\n",
    "    contact_service.add_contact(\"hannah\", \"frederick\", \"1111111111\", \"30 Test Street\")\n",
    "\n",
    "    assert len(contact_service.contact_list) > 0\n",
    "    new_contact = contact_service.contact_list[0]\n",
    "    \n",
    "    assert new_contact.get_contact_id() == \"0\"\n",
    "    assert new_contact.get_first_name() == \"hannah\"\n",
    "    assert new_contact.get_last_name() == \"frederick\"\n",
    "    assert new_contact.get_phone_number() == \"1111111111\"\n",
    "    assert new_contact.get_address() == \"30 Test Street\"\n",
    "\n",
    "#tests that an delete_contact method works as intended\n",
    "def test_delete_contact():\n",
    "    contact_service = ContactService()\n",
    "    contact_service.add_contact(\"hannah\", \"frederick\", \"1111111111\", \"30 Test Street\")\n",
    "\n",
    "    assert len(contact_service.contact_list) == 1\n",
    "\n",
    "    result = contact_service.delete_contact(\"0\")\n",
    "    assert result is True\n",
    "\n",
    "    assert len(contact_service.contact_list) == 0\n",
    "\n",
    "#tests that an update_first_name method works as intended\n",
    "def test_update_first_name():\n",
    "    contact_service = ContactService()\n",
    "    contact_service.add_contact(\"hannah\", \"frederick\", \"1111111111\", \"30 Test Street\")\n",
    "\n",
    "    assert contact_service.contact_list[0].get_first_name() == \"hannah\"\n",
    "\n",
    "    contact_service.update_first_name(\"0\", \"notHannah\")\n",
    "\n",
    "    assert contact_service.contact_list[0].get_first_name() == \"notHannah\"\n",
    "\n",
    "#tests that an update_last_name method works as intended\n",
    "def test_update_last_name():\n",
    "    contact_service = ContactService()\n",
    "    contact_service.add_contact(\"hannah\", \"frederick\", \"1111111111\", \"30 Test Street\")\n",
    "\n",
    "    assert contact_service.contact_list[0].get_last_name() == \"frederick\"\n",
    "\n",
    "    contact_service.update_first_name(\"0\", \"TestLast\")\n",
    "\n",
    "    assert contact_service.contact_list[0].get_first_name() == \"TestLast\"\n",
    "\n",
    "#tests that an update_phone_number method works as intended\n",
    "def test_update_phone_number():\n",
    "    contact_service = ContactService()\n",
    "    contact_service.add_contact(\"hannah\", \"frederick\", \"1111111111\", \"30 Test Street\")\n",
    "\n",
    "    assert contact_service.contact_list[0].get_phone_number() == \"1111111111\"\n",
    "\n",
    "    contact_service.update_phone_number(\"0\", \"2222222222\")\n",
    "\n",
    "    assert contact_service.contact_list[0].get_phone_number() == \"2222222222\"\n",
    "\n",
    "#tests that an update_address method works as intended\n",
    "def test_update_address():\n",
    "    contact_service = ContactService()\n",
    "    contact_service.add_contact(\"hannah\", \"frederick\", \"1111111111\", \"30 Test Street\")\n",
    "\n",
    "    assert contact_service.contact_list[0].get_address() == \"30 Test Street\"\n",
    "\n",
    "    contact_service.update_address(\"0\", \"32 Test Road\")\n",
    "\n",
    "    assert contact_service.contact_list[0].get_address() == \"32 Test Road\""
   ]
  },
  {
   "cell_type": "code",
   "execution_count": 2,
   "id": "af1acbec-cffa-4d41-bafc-3f1811fe4603",
   "metadata": {},
   "outputs": [
    {
     "name": "stdout",
     "output_type": "stream",
     "text": [
      "\u001b[1m======================================= test session starts =======================================\u001b[0m\n",
      "platform win32 -- Python 3.11.9, pytest-8.4.2, pluggy-1.6.0 -- C:\\Users\\Hfred\\AppData\\Local\\Programs\\Python\\Python311\\python.exe\n",
      "cachedir: .pytest_cache\n",
      "rootdir: C:\\Users\\Hfred\\CS 320 Enhancement\\Testing\n",
      "plugins: anyio-4.10.0, dash-3.2.0, pytest_notebook-0.10.0\n",
      "\u001b[1mcollecting ... \u001b[0mcollected 6 items\n",
      "\n",
      "t_529f040677a646ef965b62051e332483.py::test_add_contact \u001b[32mPASSED\u001b[0m\u001b[32m                               [ 16%]\u001b[0m\n",
      "t_529f040677a646ef965b62051e332483.py::test_delete_contact \u001b[32mPASSED\u001b[0m\u001b[32m                            [ 33%]\u001b[0m\n",
      "t_529f040677a646ef965b62051e332483.py::test_update_first_name \u001b[32mPASSED\u001b[0m\u001b[32m                         [ 50%]\u001b[0m\n",
      "t_529f040677a646ef965b62051e332483.py::test_update_last_name \u001b[32mPASSED\u001b[0m\u001b[32m                          [ 66%]\u001b[0m\n",
      "t_529f040677a646ef965b62051e332483.py::test_update_phone_number \u001b[32mPASSED\u001b[0m\u001b[32m                       [ 83%]\u001b[0m\n",
      "t_529f040677a646ef965b62051e332483.py::test_update_address \u001b[32mPASSED\u001b[0m\u001b[32m                            [100%]\u001b[0m\n",
      "\n",
      "\u001b[32m======================================== \u001b[32m\u001b[1m6 passed\u001b[0m\u001b[32m in 0.03s\u001b[0m\u001b[32m ========================================\u001b[0m\n"
     ]
    },
    {
     "data": {
      "text/plain": [
       "<ExitCode.OK: 0>"
      ]
     },
     "execution_count": 2,
     "metadata": {},
     "output_type": "execute_result"
    }
   ],
   "source": [
    "ipytest.run('-vv')"
   ]
  },
  {
   "cell_type": "code",
   "execution_count": null,
   "id": "071ddebf-9284-4d18-9fff-244bd18ec88d",
   "metadata": {},
   "outputs": [],
   "source": []
  }
 ],
 "metadata": {
  "kernelspec": {
   "display_name": "Python 3 (ipykernel)",
   "language": "python",
   "name": "python3"
  },
  "language_info": {
   "codemirror_mode": {
    "name": "ipython",
    "version": 3
   },
   "file_extension": ".py",
   "mimetype": "text/x-python",
   "name": "python",
   "nbconvert_exporter": "python",
   "pygments_lexer": "ipython3",
   "version": "3.11.9"
  }
 },
 "nbformat": 4,
 "nbformat_minor": 5
}
