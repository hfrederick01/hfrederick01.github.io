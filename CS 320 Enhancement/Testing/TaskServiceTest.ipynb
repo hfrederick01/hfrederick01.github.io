{
 "cells": [
  {
   "cell_type": "code",
   "execution_count": 1,
   "id": "5e3c6d21-91b4-4974-b00e-1eec0ae617ba",
   "metadata": {},
   "outputs": [],
   "source": [
    "#Programmer: Hannah Frederick\n",
    "#Date:09/20/2025\n",
    "#Program Description: Utilize in-memory data structures to store, edit, and delete contact, task, and appointment information for a mobile application. \n",
    "#Utilize Pytest unit testing to verify that all requirements are working as intended\n",
    "\n",
    "import pytest\n",
    "import sys\n",
    "import os\n",
    "import ipytest\n",
    "\n",
    "taskServicePath = os.path.abspath(\"../TaskService\")\n",
    "if taskServicePath not in sys.path:\n",
    "    sys.path.append(taskServicePath)\n",
    "\n",
    "from Task import Task\n",
    "from TaskService import TaskService\n",
    "\n",
    "#No OOP because pytest does better without it\n",
    "\n",
    "#tests that task constructor works as intended\n",
    "def test_add_task():\n",
    "    task_service = TaskService()\n",
    "    task_service.add_task(\"About 20 characters\", \"Description of less than 50 characters\")\n",
    "\n",
    "    assert len(task_service.task_list) > 0\n",
    "    new_task = task_service.task_list[0]\n",
    "    \n",
    "    assert new_task.get_task_id() == \"0\"\n",
    "    assert new_task.get_task_name() == \"About 20 characters\"\n",
    "    assert new_task.get_task_description() == \"Description of less than 50 characters\"\n",
    "\n",
    "#tests that delete_task method works as intended\n",
    "def test_delete_task():\n",
    "    task_service = TaskService()\n",
    "    task_service.add_task(\"About 20 characters\", \"Description of less than 50 characters\")\n",
    "\n",
    "    assert len(task_service.task_list) == 1\n",
    "\n",
    "    result = task_service.delete_task(\"0\")\n",
    "    assert result is True\n",
    "\n",
    "    assert len(task_service.task_list) == 0\n",
    "\n",
    "#tests that update_task_name method works as intended\n",
    "def test_update_task_name():\n",
    "    task_service = TaskService()\n",
    "    task_service.add_task(\"About 20 characters\", \"Description of less than 50 characters\")\n",
    "\n",
    "    assert task_service.task_list[0].get_task_name() == \"About 20 characters\"\n",
    "\n",
    "    task_service.update_task_name(\"0\", \"New Task Name\")\n",
    "\n",
    "    assert task_service.task_list[0].get_task_name() == \"New Task Name\"\n",
    "\n",
    "#tests that update_task_description method works as intended\n",
    "def test_update_task_description():\n",
    "    task_service = TaskService()\n",
    "    task_service.add_task(\"About 20 characters\", \"Description of less than 50 characters\")\n",
    "\n",
    "    assert task_service.task_list[0].get_task_description() == \"Description of less than 50 characters\"\n",
    "\n",
    "    task_service.update_task_description(\"0\", \"New Task Description\")\n",
    "\n",
    "    assert task_service.task_list[0].get_task_description() == \"New Task Description\""
   ]
  },
  {
   "cell_type": "code",
   "execution_count": 2,
   "id": "eea08e8c-fe5c-494d-a992-432ff8751bed",
   "metadata": {},
   "outputs": [
    {
     "name": "stdout",
     "output_type": "stream",
     "text": [
      "\u001b[1m======================================= test session starts =======================================\u001b[0m\n",
      "platform win32 -- Python 3.11.9, pytest-8.4.2, pluggy-1.6.0 -- C:\\Users\\Hfred\\AppData\\Local\\Programs\\Python\\Python311\\python.exe\n",
      "cachedir: .pytest_cache\n",
      "rootdir: C:\\Users\\Hfred\\CS 320 Enhancement\\Testing\n",
      "plugins: anyio-4.10.0, dash-3.2.0, pytest_notebook-0.10.0\n",
      "\u001b[1mcollecting ... \u001b[0mcollected 4 items\n",
      "\n",
      "t_4aeb8e105d14490da296adc424d53efe.py::test_add_task \u001b[32mPASSED\u001b[0m\u001b[32m                                  [ 25%]\u001b[0m\n",
      "t_4aeb8e105d14490da296adc424d53efe.py::test_delete_task \u001b[32mPASSED\u001b[0m\u001b[32m                               [ 50%]\u001b[0m\n",
      "t_4aeb8e105d14490da296adc424d53efe.py::test_update_task_name \u001b[32mPASSED\u001b[0m\u001b[32m                          [ 75%]\u001b[0m\n",
      "t_4aeb8e105d14490da296adc424d53efe.py::test_update_task_description \u001b[32mPASSED\u001b[0m\u001b[32m                   [100%]\u001b[0m\n",
      "\n",
      "\u001b[32m======================================== \u001b[32m\u001b[1m4 passed\u001b[0m\u001b[32m in 0.02s\u001b[0m\u001b[32m ========================================\u001b[0m\n"
     ]
    },
    {
     "data": {
      "text/plain": [
       "<ExitCode.OK: 0>"
      ]
     },
     "execution_count": 2,
     "metadata": {},
     "output_type": "execute_result"
    }
   ],
   "source": [
    "ipytest.run('-vv')"
   ]
  },
  {
   "cell_type": "code",
   "execution_count": null,
   "id": "0f92d7da-49c1-48f2-a9af-6858444876c7",
   "metadata": {},
   "outputs": [],
   "source": []
  }
 ],
 "metadata": {
  "kernelspec": {
   "display_name": "Python 3 (ipykernel)",
   "language": "python",
   "name": "python3"
  },
  "language_info": {
   "codemirror_mode": {
    "name": "ipython",
    "version": 3
   },
   "file_extension": ".py",
   "mimetype": "text/x-python",
   "name": "python",
   "nbconvert_exporter": "python",
   "pygments_lexer": "ipython3",
   "version": "3.11.9"
  }
 },
 "nbformat": 4,
 "nbformat_minor": 5
}
